{
  "nbformat": 4,
  "nbformat_minor": 0,
  "metadata": {
    "colab": {
      "provenance": [],
      "authorship_tag": "ABX9TyPP2uUFo3XSIF31tES5qx++",
      "include_colab_link": true
    },
    "kernelspec": {
      "name": "python3",
      "display_name": "Python 3"
    },
    "language_info": {
      "name": "python"
    }
  },
  "cells": [
    {
      "cell_type": "markdown",
      "metadata": {
        "id": "view-in-github",
        "colab_type": "text"
      },
      "source": [
        "<a href=\"https://colab.research.google.com/github/eduardoandd/PRISM/blob/main/regras_risco_credito.ipynb\" target=\"_parent\"><img src=\"https://colab.research.google.com/assets/colab-badge.svg\" alt=\"Open In Colab\"/></a>"
      ]
    },
    {
      "cell_type": "code",
      "execution_count": 1,
      "metadata": {
        "colab": {
          "base_uri": "https://localhost:8080/"
        },
        "collapsed": true,
        "id": "q4hWcKtVBP6e",
        "outputId": "32e8be84-1798-49e7-a875-e9c381311993"
      },
      "outputs": [
        {
          "output_type": "stream",
          "name": "stdout",
          "text": [
            "Requirement already satisfied: orange3 in /usr/local/lib/python3.10/dist-packages (3.37.0)\n",
            "Requirement already satisfied: AnyQt>=0.2.0 in /usr/local/lib/python3.10/dist-packages (from orange3) (0.2.0)\n",
            "Requirement already satisfied: baycomp>=1.0.2 in /usr/local/lib/python3.10/dist-packages (from orange3) (1.0.3)\n",
            "Requirement already satisfied: bottleneck>=1.3.4 in /usr/local/lib/python3.10/dist-packages (from orange3) (1.4.0)\n",
            "Requirement already satisfied: catboost>=1.0.1 in /usr/local/lib/python3.10/dist-packages (from orange3) (1.2.5)\n",
            "Requirement already satisfied: chardet>=3.0.2 in /usr/local/lib/python3.10/dist-packages (from orange3) (5.2.0)\n",
            "Requirement already satisfied: httpx>=0.21.0 in /usr/local/lib/python3.10/dist-packages (from orange3) (0.27.0)\n",
            "Requirement already satisfied: joblib>=1.1.1 in /usr/local/lib/python3.10/dist-packages (from orange3) (1.4.2)\n",
            "Requirement already satisfied: keyring in /usr/lib/python3/dist-packages (from orange3) (23.5.0)\n",
            "Requirement already satisfied: keyrings.alt in /usr/local/lib/python3.10/dist-packages (from orange3) (5.0.1)\n",
            "Requirement already satisfied: matplotlib>=3.2.0 in /usr/local/lib/python3.10/dist-packages (from orange3) (3.7.1)\n",
            "Requirement already satisfied: networkx in /usr/local/lib/python3.10/dist-packages (from orange3) (3.3)\n",
            "Requirement already satisfied: numpy<2,>=1.20.0 in /usr/local/lib/python3.10/dist-packages (from orange3) (1.26.4)\n",
            "Requirement already satisfied: openTSNE!=0.7.0,>=0.6.1 in /usr/local/lib/python3.10/dist-packages (from orange3) (1.0.2)\n",
            "Requirement already satisfied: openpyxl in /usr/local/lib/python3.10/dist-packages (from orange3) (3.1.5)\n",
            "Requirement already satisfied: orange-canvas-core<0.3a,>=0.2a in /usr/local/lib/python3.10/dist-packages (from orange3) (0.2.1)\n",
            "Requirement already satisfied: orange-widget-base>=4.23.0 in /usr/local/lib/python3.10/dist-packages (from orange3) (4.24.0)\n",
            "Requirement already satisfied: packaging in /usr/local/lib/python3.10/dist-packages (from orange3) (24.1)\n",
            "Requirement already satisfied: pandas!=1.5.0,!=2.0.0,>=1.4.0 in /usr/local/lib/python3.10/dist-packages (from orange3) (2.1.4)\n",
            "Requirement already satisfied: pip>=19.3 in /usr/local/lib/python3.10/dist-packages (from orange3) (24.1.2)\n",
            "Requirement already satisfied: pygments>=2.8.0 in /usr/local/lib/python3.10/dist-packages (from orange3) (2.16.1)\n",
            "Requirement already satisfied: pyqtgraph>=0.13.1 in /usr/local/lib/python3.10/dist-packages (from orange3) (0.13.7)\n",
            "Requirement already satisfied: python-louvain>=0.13 in /usr/local/lib/python3.10/dist-packages (from orange3) (0.16)\n",
            "Requirement already satisfied: pyyaml in /usr/local/lib/python3.10/dist-packages (from orange3) (6.0.2)\n",
            "Requirement already satisfied: qtconsole>=4.7.2 in /usr/local/lib/python3.10/dist-packages (from orange3) (5.5.2)\n",
            "Requirement already satisfied: requests in /usr/local/lib/python3.10/dist-packages (from orange3) (2.32.3)\n",
            "Requirement already satisfied: scikit-learn<1.5.0,>=1.3.0 in /usr/local/lib/python3.10/dist-packages (from orange3) (1.3.2)\n",
            "Requirement already satisfied: scipy>=1.9 in /usr/local/lib/python3.10/dist-packages (from orange3) (1.13.1)\n",
            "Requirement already satisfied: serverfiles in /usr/local/lib/python3.10/dist-packages (from orange3) (0.3.1)\n",
            "Requirement already satisfied: xgboost>=1.7.4 in /usr/local/lib/python3.10/dist-packages (from orange3) (2.1.1)\n",
            "Requirement already satisfied: xlrd>=1.2.0 in /usr/local/lib/python3.10/dist-packages (from orange3) (2.0.1)\n",
            "Requirement already satisfied: xlsxwriter in /usr/local/lib/python3.10/dist-packages (from orange3) (3.2.0)\n",
            "Requirement already satisfied: graphviz in /usr/local/lib/python3.10/dist-packages (from catboost>=1.0.1->orange3) (0.20.3)\n",
            "Requirement already satisfied: plotly in /usr/local/lib/python3.10/dist-packages (from catboost>=1.0.1->orange3) (5.15.0)\n",
            "Requirement already satisfied: six in /usr/local/lib/python3.10/dist-packages (from catboost>=1.0.1->orange3) (1.16.0)\n",
            "Requirement already satisfied: anyio in /usr/local/lib/python3.10/dist-packages (from httpx>=0.21.0->orange3) (3.7.1)\n",
            "Requirement already satisfied: certifi in /usr/local/lib/python3.10/dist-packages (from httpx>=0.21.0->orange3) (2024.7.4)\n",
            "Requirement already satisfied: httpcore==1.* in /usr/local/lib/python3.10/dist-packages (from httpx>=0.21.0->orange3) (1.0.5)\n",
            "Requirement already satisfied: idna in /usr/local/lib/python3.10/dist-packages (from httpx>=0.21.0->orange3) (3.7)\n",
            "Requirement already satisfied: sniffio in /usr/local/lib/python3.10/dist-packages (from httpx>=0.21.0->orange3) (1.3.1)\n",
            "Requirement already satisfied: h11<0.15,>=0.13 in /usr/local/lib/python3.10/dist-packages (from httpcore==1.*->httpx>=0.21.0->orange3) (0.14.0)\n",
            "Requirement already satisfied: contourpy>=1.0.1 in /usr/local/lib/python3.10/dist-packages (from matplotlib>=3.2.0->orange3) (1.2.1)\n",
            "Requirement already satisfied: cycler>=0.10 in /usr/local/lib/python3.10/dist-packages (from matplotlib>=3.2.0->orange3) (0.12.1)\n",
            "Requirement already satisfied: fonttools>=4.22.0 in /usr/local/lib/python3.10/dist-packages (from matplotlib>=3.2.0->orange3) (4.53.1)\n",
            "Requirement already satisfied: kiwisolver>=1.0.1 in /usr/local/lib/python3.10/dist-packages (from matplotlib>=3.2.0->orange3) (1.4.5)\n",
            "Requirement already satisfied: pillow>=6.2.0 in /usr/local/lib/python3.10/dist-packages (from matplotlib>=3.2.0->orange3) (9.4.0)\n",
            "Requirement already satisfied: pyparsing>=2.3.1 in /usr/local/lib/python3.10/dist-packages (from matplotlib>=3.2.0->orange3) (3.1.2)\n",
            "Requirement already satisfied: python-dateutil>=2.7 in /usr/local/lib/python3.10/dist-packages (from matplotlib>=3.2.0->orange3) (2.8.2)\n",
            "Requirement already satisfied: docutils in /usr/local/lib/python3.10/dist-packages (from orange-canvas-core<0.3a,>=0.2a->orange3) (0.18.1)\n",
            "Requirement already satisfied: commonmark>=0.8.1 in /usr/local/lib/python3.10/dist-packages (from orange-canvas-core<0.3a,>=0.2a->orange3) (0.9.1)\n",
            "Requirement already satisfied: requests-cache in /usr/local/lib/python3.10/dist-packages (from orange-canvas-core<0.3a,>=0.2a->orange3) (1.2.1)\n",
            "Requirement already satisfied: dictdiffer in /usr/local/lib/python3.10/dist-packages (from orange-canvas-core<0.3a,>=0.2a->orange3) (0.9.0)\n",
            "Requirement already satisfied: qasync>=0.10.0 in /usr/local/lib/python3.10/dist-packages (from orange-canvas-core<0.3a,>=0.2a->orange3) (0.27.1)\n",
            "Requirement already satisfied: typing-extensions>=3.7.4.3 in /usr/local/lib/python3.10/dist-packages (from orange-widget-base>=4.23.0->orange3) (4.12.2)\n",
            "Requirement already satisfied: pytz>=2020.1 in /usr/local/lib/python3.10/dist-packages (from pandas!=1.5.0,!=2.0.0,>=1.4.0->orange3) (2024.1)\n",
            "Requirement already satisfied: tzdata>=2022.1 in /usr/local/lib/python3.10/dist-packages (from pandas!=1.5.0,!=2.0.0,>=1.4.0->orange3) (2024.1)\n",
            "Requirement already satisfied: traitlets!=5.2.1,!=5.2.2 in /usr/local/lib/python3.10/dist-packages (from qtconsole>=4.7.2->orange3) (5.7.1)\n",
            "Requirement already satisfied: jupyter-core in /usr/local/lib/python3.10/dist-packages (from qtconsole>=4.7.2->orange3) (5.7.2)\n",
            "Requirement already satisfied: jupyter-client>=4.1 in /usr/local/lib/python3.10/dist-packages (from qtconsole>=4.7.2->orange3) (6.1.12)\n",
            "Requirement already satisfied: ipykernel>=4.1 in /usr/local/lib/python3.10/dist-packages (from qtconsole>=4.7.2->orange3) (5.5.6)\n",
            "Requirement already satisfied: qtpy>=2.4.0 in /usr/local/lib/python3.10/dist-packages (from qtconsole>=4.7.2->orange3) (2.4.1)\n",
            "Requirement already satisfied: pyzmq>=17.1 in /usr/local/lib/python3.10/dist-packages (from qtconsole>=4.7.2->orange3) (24.0.1)\n",
            "Requirement already satisfied: threadpoolctl>=2.0.0 in /usr/local/lib/python3.10/dist-packages (from scikit-learn<1.5.0,>=1.3.0->orange3) (3.5.0)\n",
            "Requirement already satisfied: nvidia-nccl-cu12 in /usr/local/lib/python3.10/dist-packages (from xgboost>=1.7.4->orange3) (2.22.3)\n",
            "Requirement already satisfied: jaraco.classes in /usr/local/lib/python3.10/dist-packages (from keyrings.alt->orange3) (3.4.0)\n",
            "Requirement already satisfied: jaraco.context in /usr/local/lib/python3.10/dist-packages (from keyrings.alt->orange3) (5.3.0)\n",
            "Requirement already satisfied: et-xmlfile in /usr/local/lib/python3.10/dist-packages (from openpyxl->orange3) (1.1.0)\n",
            "Requirement already satisfied: charset-normalizer<4,>=2 in /usr/local/lib/python3.10/dist-packages (from requests->orange3) (3.3.2)\n",
            "Requirement already satisfied: urllib3<3,>=1.21.1 in /usr/local/lib/python3.10/dist-packages (from requests->orange3) (2.0.7)\n",
            "Requirement already satisfied: ipython-genutils in /usr/local/lib/python3.10/dist-packages (from ipykernel>=4.1->qtconsole>=4.7.2->orange3) (0.2.0)\n",
            "Requirement already satisfied: ipython>=5.0.0 in /usr/local/lib/python3.10/dist-packages (from ipykernel>=4.1->qtconsole>=4.7.2->orange3) (7.34.0)\n",
            "Requirement already satisfied: tornado>=4.2 in /usr/local/lib/python3.10/dist-packages (from ipykernel>=4.1->qtconsole>=4.7.2->orange3) (6.3.3)\n",
            "Requirement already satisfied: platformdirs>=2.5 in /usr/local/lib/python3.10/dist-packages (from jupyter-core->qtconsole>=4.7.2->orange3) (4.2.2)\n",
            "Requirement already satisfied: exceptiongroup in /usr/local/lib/python3.10/dist-packages (from anyio->httpx>=0.21.0->orange3) (1.2.2)\n",
            "Requirement already satisfied: more-itertools in /usr/local/lib/python3.10/dist-packages (from jaraco.classes->keyrings.alt->orange3) (10.3.0)\n",
            "Requirement already satisfied: backports.tarfile in /usr/local/lib/python3.10/dist-packages (from jaraco.context->keyrings.alt->orange3) (1.2.0)\n",
            "Requirement already satisfied: tenacity>=6.2.0 in /usr/local/lib/python3.10/dist-packages (from plotly->catboost>=1.0.1->orange3) (9.0.0)\n",
            "Requirement already satisfied: attrs>=21.2 in /usr/local/lib/python3.10/dist-packages (from requests-cache->orange-canvas-core<0.3a,>=0.2a->orange3) (24.2.0)\n",
            "Requirement already satisfied: cattrs>=22.2 in /usr/local/lib/python3.10/dist-packages (from requests-cache->orange-canvas-core<0.3a,>=0.2a->orange3) (23.2.3)\n",
            "Requirement already satisfied: url-normalize>=1.4 in /usr/local/lib/python3.10/dist-packages (from requests-cache->orange-canvas-core<0.3a,>=0.2a->orange3) (1.4.3)\n",
            "Requirement already satisfied: setuptools>=18.5 in /usr/local/lib/python3.10/dist-packages (from ipython>=5.0.0->ipykernel>=4.1->qtconsole>=4.7.2->orange3) (71.0.4)\n",
            "Requirement already satisfied: jedi>=0.16 in /usr/local/lib/python3.10/dist-packages (from ipython>=5.0.0->ipykernel>=4.1->qtconsole>=4.7.2->orange3) (0.19.1)\n",
            "Requirement already satisfied: decorator in /usr/local/lib/python3.10/dist-packages (from ipython>=5.0.0->ipykernel>=4.1->qtconsole>=4.7.2->orange3) (4.4.2)\n",
            "Requirement already satisfied: pickleshare in /usr/local/lib/python3.10/dist-packages (from ipython>=5.0.0->ipykernel>=4.1->qtconsole>=4.7.2->orange3) (0.7.5)\n",
            "Requirement already satisfied: prompt-toolkit!=3.0.0,!=3.0.1,<3.1.0,>=2.0.0 in /usr/local/lib/python3.10/dist-packages (from ipython>=5.0.0->ipykernel>=4.1->qtconsole>=4.7.2->orange3) (3.0.47)\n",
            "Requirement already satisfied: backcall in /usr/local/lib/python3.10/dist-packages (from ipython>=5.0.0->ipykernel>=4.1->qtconsole>=4.7.2->orange3) (0.2.0)\n",
            "Requirement already satisfied: matplotlib-inline in /usr/local/lib/python3.10/dist-packages (from ipython>=5.0.0->ipykernel>=4.1->qtconsole>=4.7.2->orange3) (0.1.7)\n",
            "Requirement already satisfied: pexpect>4.3 in /usr/local/lib/python3.10/dist-packages (from ipython>=5.0.0->ipykernel>=4.1->qtconsole>=4.7.2->orange3) (4.9.0)\n",
            "Requirement already satisfied: parso<0.9.0,>=0.8.3 in /usr/local/lib/python3.10/dist-packages (from jedi>=0.16->ipython>=5.0.0->ipykernel>=4.1->qtconsole>=4.7.2->orange3) (0.8.4)\n",
            "Requirement already satisfied: ptyprocess>=0.5 in /usr/local/lib/python3.10/dist-packages (from pexpect>4.3->ipython>=5.0.0->ipykernel>=4.1->qtconsole>=4.7.2->orange3) (0.7.0)\n",
            "Requirement already satisfied: wcwidth in /usr/local/lib/python3.10/dist-packages (from prompt-toolkit!=3.0.0,!=3.0.1,<3.1.0,>=2.0.0->ipython>=5.0.0->ipykernel>=4.1->qtconsole>=4.7.2->orange3) (0.2.13)\n"
          ]
        }
      ],
      "source": [
        "!pip install orange3"
      ]
    },
    {
      "cell_type": "code",
      "source": [
        "import Orange"
      ],
      "metadata": {
        "id": "hStX5dNwCdF9"
      },
      "execution_count": 2,
      "outputs": []
    },
    {
      "cell_type": "code",
      "source": [
        "df=Orange.data.Table('risco_credito_regras.csv')"
      ],
      "metadata": {
        "id": "Dg7xX3cHChEn"
      },
      "execution_count": 3,
      "outputs": []
    },
    {
      "cell_type": "code",
      "source": [
        "df"
      ],
      "metadata": {
        "colab": {
          "base_uri": "https://localhost:8080/"
        },
        "collapsed": true,
        "id": "zoAI49MVCng1",
        "outputId": "f0e464fe-e336-4531-eb9c-d439c958bf15"
      },
      "execution_count": 4,
      "outputs": [
        {
          "output_type": "execute_result",
          "data": {
            "text/plain": [
              "[[ruim, alta, nenhuma, 0_15 | alto],\n",
              " [desconhecida, alta, nenhuma, 15_35 | alto],\n",
              " [desconhecida, baixa, nenhuma, 15_35 | moderado],\n",
              " [desconhecida, baixa, nenhuma, acima_35 | alto],\n",
              " [desconhecida, baixa, nenhuma, acima_35 | baixo],\n",
              " ...\n",
              "]"
            ]
          },
          "metadata": {},
          "execution_count": 4
        }
      ]
    },
    {
      "cell_type": "code",
      "source": [
        "df.domain"
      ],
      "metadata": {
        "colab": {
          "base_uri": "https://localhost:8080/"
        },
        "id": "OCRh1YkPCofO",
        "outputId": "eeea7a39-0fc0-451b-ff10-63295490fbe9"
      },
      "execution_count": 5,
      "outputs": [
        {
          "output_type": "execute_result",
          "data": {
            "text/plain": [
              "[historia, divida, garantias, renda | risco]"
            ]
          },
          "metadata": {},
          "execution_count": 5
        }
      ]
    },
    {
      "cell_type": "code",
      "source": [
        "cn2= Orange.classification.rules.CN2Learner()\n",
        "regras=cn2(df)"
      ],
      "metadata": {
        "id": "JvdJXqIuDqSj"
      },
      "execution_count": 8,
      "outputs": []
    },
    {
      "cell_type": "code",
      "source": [
        "for regra in regras.rule_list:\n",
        "  print(regra)"
      ],
      "metadata": {
        "colab": {
          "base_uri": "https://localhost:8080/"
        },
        "id": "TyDhv3wwGkDu",
        "outputId": "142779fa-0e5b-4fa9-a55b-90aefb475148"
      },
      "execution_count": 9,
      "outputs": [
        {
          "output_type": "stream",
          "name": "stdout",
          "text": [
            "IF renda==0_15 THEN risco=alto \n",
            "IF historia==boa AND divida!=alta THEN risco=baixo \n",
            "IF historia==boa AND garantias!=nenhuma THEN risco=baixo \n",
            "IF historia==boa AND renda!=15_35 THEN risco=baixo \n",
            "IF historia==boa THEN risco=moderado \n",
            "IF divida==alta THEN risco=alto \n",
            "IF historia!=desconhecida THEN risco=moderado \n",
            "IF garantias==adequada THEN risco=baixo \n",
            "IF renda==15_35 THEN risco=moderado \n",
            "IF historia==desconhecida THEN risco=baixo \n",
            "IF TRUE THEN risco=alto \n"
          ]
        }
      ]
    },
    {
      "cell_type": "code",
      "source": [
        "previsoes=regras([['boa','alta','nenhuma','acima_35'],['boa','alta','nenhuma','15_35']])\n",
        "previsoes"
      ],
      "metadata": {
        "colab": {
          "base_uri": "https://localhost:8080/"
        },
        "id": "lxJcLzkmGygE",
        "outputId": "6f29bd37-12f1-422f-c63c-929e7c7e6871"
      },
      "execution_count": 19,
      "outputs": [
        {
          "output_type": "execute_result",
          "data": {
            "text/plain": [
              "array([1, 2])"
            ]
          },
          "metadata": {},
          "execution_count": 19
        }
      ]
    },
    {
      "cell_type": "code",
      "source": [
        "df.domain.class_var.values"
      ],
      "metadata": {
        "colab": {
          "base_uri": "https://localhost:8080/"
        },
        "id": "6ivlq6xaHOhl",
        "outputId": "ff4ba58e-0d73-4029-8af9-99dec7bbc0e0"
      },
      "execution_count": 13,
      "outputs": [
        {
          "output_type": "execute_result",
          "data": {
            "text/plain": [
              "('alto', 'baixo', 'moderado')"
            ]
          },
          "metadata": {},
          "execution_count": 13
        }
      ]
    },
    {
      "cell_type": "code",
      "source": [
        "for i in previsoes:\n",
        "  print(df.domain.class_var.values[i])"
      ],
      "metadata": {
        "colab": {
          "base_uri": "https://localhost:8080/"
        },
        "id": "4FqvGfbVHbqr",
        "outputId": "865b73fd-fddc-45d2-c43b-bd7f9fb784f6"
      },
      "execution_count": 20,
      "outputs": [
        {
          "output_type": "stream",
          "name": "stdout",
          "text": [
            "baixo\n",
            "moderado\n"
          ]
        }
      ]
    },
    {
      "cell_type": "code",
      "source": [],
      "metadata": {
        "id": "qUaUNMO-Huj2"
      },
      "execution_count": null,
      "outputs": []
    }
  ]
}