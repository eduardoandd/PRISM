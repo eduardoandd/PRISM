{
  "nbformat": 4,
  "nbformat_minor": 0,
  "metadata": {
    "colab": {
      "provenance": [],
      "authorship_tag": "ABX9TyMkbA38cIRwQlKcRCPBCeXH",
      "include_colab_link": true
    },
    "kernelspec": {
      "name": "python3",
      "display_name": "Python 3"
    },
    "language_info": {
      "name": "python"
    }
  },
  "cells": [
    {
      "cell_type": "markdown",
      "metadata": {
        "id": "view-in-github",
        "colab_type": "text"
      },
      "source": [
        "<a href=\"https://colab.research.google.com/github/eduardoandd/PRISM/blob/main/regras_risco_credito.ipynb\" target=\"_parent\"><img src=\"https://colab.research.google.com/assets/colab-badge.svg\" alt=\"Open In Colab\"/></a>"
      ]
    },
    {
      "cell_type": "code",
      "execution_count": 1,
      "metadata": {
        "colab": {
          "base_uri": "https://localhost:8080/"
        },
        "collapsed": true,
        "id": "q4hWcKtVBP6e",
        "outputId": "f5e31ab5-42e5-4bd5-80f5-68d4d75eb2fc"
      },
      "outputs": [
        {
          "output_type": "stream",
          "name": "stdout",
          "text": [
            "Requirement already satisfied: orange3 in /usr/local/lib/python3.10/dist-packages (3.37.0)\n",
            "Requirement already satisfied: AnyQt>=0.2.0 in /usr/local/lib/python3.10/dist-packages (from orange3) (0.2.0)\n",
            "Requirement already satisfied: baycomp>=1.0.2 in /usr/local/lib/python3.10/dist-packages (from orange3) (1.0.3)\n",
            "Requirement already satisfied: bottleneck>=1.3.4 in /usr/local/lib/python3.10/dist-packages (from orange3) (1.4.0)\n",
            "Requirement already satisfied: catboost>=1.0.1 in /usr/local/lib/python3.10/dist-packages (from orange3) (1.2.5)\n",
            "Requirement already satisfied: chardet>=3.0.2 in /usr/local/lib/python3.10/dist-packages (from orange3) (5.2.0)\n",
            "Requirement already satisfied: httpx>=0.21.0 in /usr/local/lib/python3.10/dist-packages (from orange3) (0.27.0)\n",
            "Requirement already satisfied: joblib>=1.1.1 in /usr/local/lib/python3.10/dist-packages (from orange3) (1.4.2)\n",
            "Requirement already satisfied: keyring in /usr/lib/python3/dist-packages (from orange3) (23.5.0)\n",
            "Requirement already satisfied: keyrings.alt in /usr/local/lib/python3.10/dist-packages (from orange3) (5.0.2)\n",
            "Requirement already satisfied: matplotlib>=3.2.0 in /usr/local/lib/python3.10/dist-packages (from orange3) (3.7.1)\n",
            "Requirement already satisfied: networkx in /usr/local/lib/python3.10/dist-packages (from orange3) (3.3)\n",
            "Requirement already satisfied: numpy<2,>=1.20.0 in /usr/local/lib/python3.10/dist-packages (from orange3) (1.26.4)\n",
            "Requirement already satisfied: openTSNE!=0.7.0,>=0.6.1 in /usr/local/lib/python3.10/dist-packages (from orange3) (1.0.2)\n",
            "Requirement already satisfied: openpyxl in /usr/local/lib/python3.10/dist-packages (from orange3) (3.1.5)\n",
            "Requirement already satisfied: orange-canvas-core<0.3a,>=0.2a in /usr/local/lib/python3.10/dist-packages (from orange3) (0.2.1)\n",
            "Requirement already satisfied: orange-widget-base>=4.23.0 in /usr/local/lib/python3.10/dist-packages (from orange3) (4.24.0)\n",
            "Requirement already satisfied: packaging in /usr/local/lib/python3.10/dist-packages (from orange3) (24.1)\n",
            "Requirement already satisfied: pandas!=1.5.0,!=2.0.0,>=1.4.0 in /usr/local/lib/python3.10/dist-packages (from orange3) (2.1.4)\n",
            "Requirement already satisfied: pip>=19.3 in /usr/local/lib/python3.10/dist-packages (from orange3) (24.1.2)\n",
            "Requirement already satisfied: pygments>=2.8.0 in /usr/local/lib/python3.10/dist-packages (from orange3) (2.16.1)\n",
            "Requirement already satisfied: pyqtgraph>=0.13.1 in /usr/local/lib/python3.10/dist-packages (from orange3) (0.13.7)\n",
            "Requirement already satisfied: python-louvain>=0.13 in /usr/local/lib/python3.10/dist-packages (from orange3) (0.16)\n",
            "Requirement already satisfied: pyyaml in /usr/local/lib/python3.10/dist-packages (from orange3) (6.0.2)\n",
            "Requirement already satisfied: qtconsole>=4.7.2 in /usr/local/lib/python3.10/dist-packages (from orange3) (5.5.2)\n",
            "Requirement already satisfied: requests in /usr/local/lib/python3.10/dist-packages (from orange3) (2.32.3)\n",
            "Requirement already satisfied: scikit-learn<1.5.0,>=1.3.0 in /usr/local/lib/python3.10/dist-packages (from orange3) (1.3.2)\n",
            "Requirement already satisfied: scipy>=1.9 in /usr/local/lib/python3.10/dist-packages (from orange3) (1.13.1)\n",
            "Requirement already satisfied: serverfiles in /usr/local/lib/python3.10/dist-packages (from orange3) (0.3.1)\n",
            "Requirement already satisfied: xgboost>=1.7.4 in /usr/local/lib/python3.10/dist-packages (from orange3) (2.1.1)\n",
            "Requirement already satisfied: xlrd>=1.2.0 in /usr/local/lib/python3.10/dist-packages (from orange3) (2.0.1)\n",
            "Requirement already satisfied: xlsxwriter in /usr/local/lib/python3.10/dist-packages (from orange3) (3.2.0)\n",
            "Requirement already satisfied: graphviz in /usr/local/lib/python3.10/dist-packages (from catboost>=1.0.1->orange3) (0.20.3)\n",
            "Requirement already satisfied: plotly in /usr/local/lib/python3.10/dist-packages (from catboost>=1.0.1->orange3) (5.15.0)\n",
            "Requirement already satisfied: six in /usr/local/lib/python3.10/dist-packages (from catboost>=1.0.1->orange3) (1.16.0)\n",
            "Requirement already satisfied: anyio in /usr/local/lib/python3.10/dist-packages (from httpx>=0.21.0->orange3) (3.7.1)\n",
            "Requirement already satisfied: certifi in /usr/local/lib/python3.10/dist-packages (from httpx>=0.21.0->orange3) (2024.7.4)\n",
            "Requirement already satisfied: httpcore==1.* in /usr/local/lib/python3.10/dist-packages (from httpx>=0.21.0->orange3) (1.0.5)\n",
            "Requirement already satisfied: idna in /usr/local/lib/python3.10/dist-packages (from httpx>=0.21.0->orange3) (3.7)\n",
            "Requirement already satisfied: sniffio in /usr/local/lib/python3.10/dist-packages (from httpx>=0.21.0->orange3) (1.3.1)\n",
            "Requirement already satisfied: h11<0.15,>=0.13 in /usr/local/lib/python3.10/dist-packages (from httpcore==1.*->httpx>=0.21.0->orange3) (0.14.0)\n",
            "Requirement already satisfied: contourpy>=1.0.1 in /usr/local/lib/python3.10/dist-packages (from matplotlib>=3.2.0->orange3) (1.2.1)\n",
            "Requirement already satisfied: cycler>=0.10 in /usr/local/lib/python3.10/dist-packages (from matplotlib>=3.2.0->orange3) (0.12.1)\n",
            "Requirement already satisfied: fonttools>=4.22.0 in /usr/local/lib/python3.10/dist-packages (from matplotlib>=3.2.0->orange3) (4.53.1)\n",
            "Requirement already satisfied: kiwisolver>=1.0.1 in /usr/local/lib/python3.10/dist-packages (from matplotlib>=3.2.0->orange3) (1.4.5)\n",
            "Requirement already satisfied: pillow>=6.2.0 in /usr/local/lib/python3.10/dist-packages (from matplotlib>=3.2.0->orange3) (9.4.0)\n",
            "Requirement already satisfied: pyparsing>=2.3.1 in /usr/local/lib/python3.10/dist-packages (from matplotlib>=3.2.0->orange3) (3.1.2)\n",
            "Requirement already satisfied: python-dateutil>=2.7 in /usr/local/lib/python3.10/dist-packages (from matplotlib>=3.2.0->orange3) (2.8.2)\n",
            "Requirement already satisfied: docutils in /usr/local/lib/python3.10/dist-packages (from orange-canvas-core<0.3a,>=0.2a->orange3) (0.18.1)\n",
            "Requirement already satisfied: commonmark>=0.8.1 in /usr/local/lib/python3.10/dist-packages (from orange-canvas-core<0.3a,>=0.2a->orange3) (0.9.1)\n",
            "Requirement already satisfied: requests-cache in /usr/local/lib/python3.10/dist-packages (from orange-canvas-core<0.3a,>=0.2a->orange3) (1.2.1)\n",
            "Requirement already satisfied: dictdiffer in /usr/local/lib/python3.10/dist-packages (from orange-canvas-core<0.3a,>=0.2a->orange3) (0.9.0)\n",
            "Requirement already satisfied: qasync>=0.10.0 in /usr/local/lib/python3.10/dist-packages (from orange-canvas-core<0.3a,>=0.2a->orange3) (0.27.1)\n",
            "Requirement already satisfied: typing-extensions>=3.7.4.3 in /usr/local/lib/python3.10/dist-packages (from orange-widget-base>=4.23.0->orange3) (4.12.2)\n",
            "Requirement already satisfied: pytz>=2020.1 in /usr/local/lib/python3.10/dist-packages (from pandas!=1.5.0,!=2.0.0,>=1.4.0->orange3) (2024.1)\n",
            "Requirement already satisfied: tzdata>=2022.1 in /usr/local/lib/python3.10/dist-packages (from pandas!=1.5.0,!=2.0.0,>=1.4.0->orange3) (2024.1)\n",
            "Requirement already satisfied: traitlets!=5.2.1,!=5.2.2 in /usr/local/lib/python3.10/dist-packages (from qtconsole>=4.7.2->orange3) (5.7.1)\n",
            "Requirement already satisfied: jupyter-core in /usr/local/lib/python3.10/dist-packages (from qtconsole>=4.7.2->orange3) (5.7.2)\n",
            "Requirement already satisfied: jupyter-client>=4.1 in /usr/local/lib/python3.10/dist-packages (from qtconsole>=4.7.2->orange3) (6.1.12)\n",
            "Requirement already satisfied: ipykernel>=4.1 in /usr/local/lib/python3.10/dist-packages (from qtconsole>=4.7.2->orange3) (5.5.6)\n",
            "Requirement already satisfied: qtpy>=2.4.0 in /usr/local/lib/python3.10/dist-packages (from qtconsole>=4.7.2->orange3) (2.4.1)\n",
            "Requirement already satisfied: pyzmq>=17.1 in /usr/local/lib/python3.10/dist-packages (from qtconsole>=4.7.2->orange3) (24.0.1)\n",
            "Requirement already satisfied: threadpoolctl>=2.0.0 in /usr/local/lib/python3.10/dist-packages (from scikit-learn<1.5.0,>=1.3.0->orange3) (3.5.0)\n",
            "Requirement already satisfied: nvidia-nccl-cu12 in /usr/local/lib/python3.10/dist-packages (from xgboost>=1.7.4->orange3) (2.22.3)\n",
            "Requirement already satisfied: jaraco.classes in /usr/local/lib/python3.10/dist-packages (from keyrings.alt->orange3) (3.4.0)\n",
            "Requirement already satisfied: jaraco.context in /usr/local/lib/python3.10/dist-packages (from keyrings.alt->orange3) (5.3.0)\n",
            "Requirement already satisfied: et-xmlfile in /usr/local/lib/python3.10/dist-packages (from openpyxl->orange3) (1.1.0)\n",
            "Requirement already satisfied: charset-normalizer<4,>=2 in /usr/local/lib/python3.10/dist-packages (from requests->orange3) (3.3.2)\n",
            "Requirement already satisfied: urllib3<3,>=1.21.1 in /usr/local/lib/python3.10/dist-packages (from requests->orange3) (2.0.7)\n",
            "Requirement already satisfied: ipython-genutils in /usr/local/lib/python3.10/dist-packages (from ipykernel>=4.1->qtconsole>=4.7.2->orange3) (0.2.0)\n",
            "Requirement already satisfied: ipython>=5.0.0 in /usr/local/lib/python3.10/dist-packages (from ipykernel>=4.1->qtconsole>=4.7.2->orange3) (7.34.0)\n",
            "Requirement already satisfied: tornado>=4.2 in /usr/local/lib/python3.10/dist-packages (from ipykernel>=4.1->qtconsole>=4.7.2->orange3) (6.3.3)\n",
            "Requirement already satisfied: platformdirs>=2.5 in /usr/local/lib/python3.10/dist-packages (from jupyter-core->qtconsole>=4.7.2->orange3) (4.2.2)\n",
            "Requirement already satisfied: exceptiongroup in /usr/local/lib/python3.10/dist-packages (from anyio->httpx>=0.21.0->orange3) (1.2.2)\n",
            "Requirement already satisfied: more-itertools in /usr/local/lib/python3.10/dist-packages (from jaraco.classes->keyrings.alt->orange3) (10.3.0)\n",
            "Requirement already satisfied: backports.tarfile in /usr/local/lib/python3.10/dist-packages (from jaraco.context->keyrings.alt->orange3) (1.2.0)\n",
            "Requirement already satisfied: tenacity>=6.2.0 in /usr/local/lib/python3.10/dist-packages (from plotly->catboost>=1.0.1->orange3) (9.0.0)\n",
            "Requirement already satisfied: attrs>=21.2 in /usr/local/lib/python3.10/dist-packages (from requests-cache->orange-canvas-core<0.3a,>=0.2a->orange3) (24.2.0)\n",
            "Requirement already satisfied: cattrs>=22.2 in /usr/local/lib/python3.10/dist-packages (from requests-cache->orange-canvas-core<0.3a,>=0.2a->orange3) (23.2.3)\n",
            "Requirement already satisfied: url-normalize>=1.4 in /usr/local/lib/python3.10/dist-packages (from requests-cache->orange-canvas-core<0.3a,>=0.2a->orange3) (1.4.3)\n",
            "Requirement already satisfied: setuptools>=18.5 in /usr/local/lib/python3.10/dist-packages (from ipython>=5.0.0->ipykernel>=4.1->qtconsole>=4.7.2->orange3) (71.0.4)\n",
            "Requirement already satisfied: jedi>=0.16 in /usr/local/lib/python3.10/dist-packages (from ipython>=5.0.0->ipykernel>=4.1->qtconsole>=4.7.2->orange3) (0.19.1)\n",
            "Requirement already satisfied: decorator in /usr/local/lib/python3.10/dist-packages (from ipython>=5.0.0->ipykernel>=4.1->qtconsole>=4.7.2->orange3) (4.4.2)\n",
            "Requirement already satisfied: pickleshare in /usr/local/lib/python3.10/dist-packages (from ipython>=5.0.0->ipykernel>=4.1->qtconsole>=4.7.2->orange3) (0.7.5)\n",
            "Requirement already satisfied: prompt-toolkit!=3.0.0,!=3.0.1,<3.1.0,>=2.0.0 in /usr/local/lib/python3.10/dist-packages (from ipython>=5.0.0->ipykernel>=4.1->qtconsole>=4.7.2->orange3) (3.0.47)\n",
            "Requirement already satisfied: backcall in /usr/local/lib/python3.10/dist-packages (from ipython>=5.0.0->ipykernel>=4.1->qtconsole>=4.7.2->orange3) (0.2.0)\n",
            "Requirement already satisfied: matplotlib-inline in /usr/local/lib/python3.10/dist-packages (from ipython>=5.0.0->ipykernel>=4.1->qtconsole>=4.7.2->orange3) (0.1.7)\n",
            "Requirement already satisfied: pexpect>4.3 in /usr/local/lib/python3.10/dist-packages (from ipython>=5.0.0->ipykernel>=4.1->qtconsole>=4.7.2->orange3) (4.9.0)\n",
            "Requirement already satisfied: parso<0.9.0,>=0.8.3 in /usr/local/lib/python3.10/dist-packages (from jedi>=0.16->ipython>=5.0.0->ipykernel>=4.1->qtconsole>=4.7.2->orange3) (0.8.4)\n",
            "Requirement already satisfied: ptyprocess>=0.5 in /usr/local/lib/python3.10/dist-packages (from pexpect>4.3->ipython>=5.0.0->ipykernel>=4.1->qtconsole>=4.7.2->orange3) (0.7.0)\n",
            "Requirement already satisfied: wcwidth in /usr/local/lib/python3.10/dist-packages (from prompt-toolkit!=3.0.0,!=3.0.1,<3.1.0,>=2.0.0->ipython>=5.0.0->ipykernel>=4.1->qtconsole>=4.7.2->orange3) (0.2.13)\n"
          ]
        }
      ],
      "source": [
        "!pip install orange3"
      ]
    },
    {
      "cell_type": "markdown",
      "source": [
        "# BASE RISCO CRÉDITO"
      ],
      "metadata": {
        "id": "PL1cLPTigWQW"
      }
    },
    {
      "cell_type": "code",
      "source": [
        "import Orange"
      ],
      "metadata": {
        "id": "hStX5dNwCdF9"
      },
      "execution_count": null,
      "outputs": []
    },
    {
      "cell_type": "code",
      "source": [
        "df=Orange.data.Table('risco_credito_regras.csv')"
      ],
      "metadata": {
        "id": "Dg7xX3cHChEn"
      },
      "execution_count": null,
      "outputs": []
    },
    {
      "cell_type": "code",
      "source": [
        "len(df)"
      ],
      "metadata": {
        "colab": {
          "base_uri": "https://localhost:8080/"
        },
        "collapsed": true,
        "id": "zoAI49MVCng1",
        "outputId": "5b0e210b-a854-41ff-c465-7c3a18a717ee"
      },
      "execution_count": 19,
      "outputs": [
        {
          "output_type": "execute_result",
          "data": {
            "text/plain": [
              "2000"
            ]
          },
          "metadata": {},
          "execution_count": 19
        }
      ]
    },
    {
      "cell_type": "code",
      "source": [
        "df.domain"
      ],
      "metadata": {
        "colab": {
          "base_uri": "https://localhost:8080/"
        },
        "id": "OCRh1YkPCofO",
        "outputId": "eeea7a39-0fc0-451b-ff10-63295490fbe9"
      },
      "execution_count": null,
      "outputs": [
        {
          "output_type": "execute_result",
          "data": {
            "text/plain": [
              "[historia, divida, garantias, renda | risco]"
            ]
          },
          "metadata": {},
          "execution_count": 5
        }
      ]
    },
    {
      "cell_type": "code",
      "source": [
        "cn2= Orange.classification.rules.CN2Learner()\n",
        "regras=cn2(df)"
      ],
      "metadata": {
        "id": "JvdJXqIuDqSj"
      },
      "execution_count": null,
      "outputs": []
    },
    {
      "cell_type": "code",
      "source": [
        "for regra in regras.rule_list:\n",
        "  print(regra)"
      ],
      "metadata": {
        "colab": {
          "base_uri": "https://localhost:8080/"
        },
        "id": "TyDhv3wwGkDu",
        "outputId": "142779fa-0e5b-4fa9-a55b-90aefb475148",
        "collapsed": true
      },
      "execution_count": null,
      "outputs": [
        {
          "output_type": "stream",
          "name": "stdout",
          "text": [
            "IF renda==0_15 THEN risco=alto \n",
            "IF historia==boa AND divida!=alta THEN risco=baixo \n",
            "IF historia==boa AND garantias!=nenhuma THEN risco=baixo \n",
            "IF historia==boa AND renda!=15_35 THEN risco=baixo \n",
            "IF historia==boa THEN risco=moderado \n",
            "IF divida==alta THEN risco=alto \n",
            "IF historia!=desconhecida THEN risco=moderado \n",
            "IF garantias==adequada THEN risco=baixo \n",
            "IF renda==15_35 THEN risco=moderado \n",
            "IF historia==desconhecida THEN risco=baixo \n",
            "IF TRUE THEN risco=alto \n"
          ]
        }
      ]
    },
    {
      "cell_type": "code",
      "source": [
        "previsoes=regras([['boa','alta','nenhuma','acima_35'],['boa','alta','nenhuma','15_35']])\n",
        "previsoes"
      ],
      "metadata": {
        "colab": {
          "base_uri": "https://localhost:8080/"
        },
        "id": "lxJcLzkmGygE",
        "outputId": "6f29bd37-12f1-422f-c63c-929e7c7e6871"
      },
      "execution_count": null,
      "outputs": [
        {
          "output_type": "execute_result",
          "data": {
            "text/plain": [
              "array([1, 2])"
            ]
          },
          "metadata": {},
          "execution_count": 19
        }
      ]
    },
    {
      "cell_type": "code",
      "source": [
        "df.domain.class_var.values"
      ],
      "metadata": {
        "colab": {
          "base_uri": "https://localhost:8080/"
        },
        "id": "6ivlq6xaHOhl",
        "outputId": "ff4ba58e-0d73-4029-8af9-99dec7bbc0e0"
      },
      "execution_count": null,
      "outputs": [
        {
          "output_type": "execute_result",
          "data": {
            "text/plain": [
              "('alto', 'baixo', 'moderado')"
            ]
          },
          "metadata": {},
          "execution_count": 13
        }
      ]
    },
    {
      "cell_type": "code",
      "source": [
        "for i in previsoes:\n",
        "  print(df.domain.class_var.values[i])"
      ],
      "metadata": {
        "colab": {
          "base_uri": "https://localhost:8080/"
        },
        "id": "4FqvGfbVHbqr",
        "outputId": "865b73fd-fddc-45d2-c43b-bd7f9fb784f6"
      },
      "execution_count": null,
      "outputs": [
        {
          "output_type": "stream",
          "name": "stdout",
          "text": [
            "baixo\n",
            "moderado\n"
          ]
        }
      ]
    },
    {
      "cell_type": "code",
      "source": [],
      "metadata": {
        "id": "qUaUNMO-Huj2"
      },
      "execution_count": null,
      "outputs": []
    },
    {
      "cell_type": "markdown",
      "source": [
        "# BASE CRÉDITO - 98%"
      ],
      "metadata": {
        "id": "VE4uAFErgeTa"
      }
    },
    {
      "cell_type": "code",
      "source": [
        "import Orange"
      ],
      "metadata": {
        "id": "XoPugZQrgkK_"
      },
      "execution_count": 2,
      "outputs": []
    },
    {
      "cell_type": "code",
      "source": [
        "df=Orange.data.Table('credit_data_regras.csv')"
      ],
      "metadata": {
        "id": "coJmqIaohSVv"
      },
      "execution_count": 3,
      "outputs": []
    },
    {
      "cell_type": "code",
      "source": [
        "df.domain"
      ],
      "metadata": {
        "collapsed": true,
        "id": "7wgRYVethbmh",
        "outputId": "8724d724-6f5e-4d3b-c5f4-69c899258a24",
        "colab": {
          "base_uri": "https://localhost:8080/"
        }
      },
      "execution_count": 4,
      "outputs": [
        {
          "output_type": "execute_result",
          "data": {
            "text/plain": [
              "[income, age, loan | default]"
            ]
          },
          "metadata": {},
          "execution_count": 4
        }
      ]
    },
    {
      "cell_type": "code",
      "source": [
        "base_divida=Orange.evaluation.testing.sample(df,n=0.25)"
      ],
      "metadata": {
        "id": "SXBfVLLOhdeC"
      },
      "execution_count": 5,
      "outputs": []
    },
    {
      "cell_type": "code",
      "source": [
        "base_divida[0],base_divida[1]"
      ],
      "metadata": {
        "collapsed": true,
        "id": "GwSH-L-zh2_l",
        "outputId": "5cbb3bf6-5db3-4f0c-e9e8-bc807b014acf",
        "colab": {
          "base_uri": "https://localhost:8080/"
        }
      },
      "execution_count": 6,
      "outputs": [
        {
          "output_type": "execute_result",
          "data": {
            "text/plain": [
              "([[28873.7, 62.3286, 2224.47 | 0],\n",
              "  [61013.2, 24.7076, 1791.54 | 0],\n",
              "  [40916.6, 48.3197, 5219.8 | 0],\n",
              "  [50112.5, 41.3046, 5067.03 | 0],\n",
              "  [59208.7, 30.9312, 11479.4 | 1],\n",
              "  ...\n",
              " ],\n",
              " [[66209.1, 45.1882, 7134.66 | 0],\n",
              "  [37633.1, 29.4214, 868.162 | 0],\n",
              "  [58074.8, 50.0749, 7388.02 | 0],\n",
              "  [40376.2, 38.9213, 3901.94 | 0],\n",
              "  [51790.7, 41.1509, 1281.04 | 0],\n",
              "  ...\n",
              " ])"
            ]
          },
          "metadata": {},
          "execution_count": 6
        }
      ]
    },
    {
      "cell_type": "code",
      "source": [
        "base_treinamento=base_divida[1]\n",
        "base_teste=base_divida[0]"
      ],
      "metadata": {
        "id": "ch_sDq7Ph_jI"
      },
      "execution_count": 7,
      "outputs": []
    },
    {
      "cell_type": "code",
      "source": [
        "len(base_treinamento), len(base_teste)"
      ],
      "metadata": {
        "id": "8qZCodILiLzh",
        "outputId": "3b77356e-ac26-4208-cc4a-de31fc6400e7",
        "colab": {
          "base_uri": "https://localhost:8080/"
        }
      },
      "execution_count": 8,
      "outputs": [
        {
          "output_type": "execute_result",
          "data": {
            "text/plain": [
              "(1500, 500)"
            ]
          },
          "metadata": {},
          "execution_count": 8
        }
      ]
    },
    {
      "cell_type": "code",
      "source": [
        "cn2=Orange.classification.rules.CN2Learner()\n",
        "regras_credit=cn2(base_treinamento)"
      ],
      "metadata": {
        "id": "-5Y2FW0kiQPs"
      },
      "execution_count": 10,
      "outputs": []
    },
    {
      "cell_type": "code",
      "source": [
        "for regra in regras_credit.rule_list:\n",
        "  print(regra)"
      ],
      "metadata": {
        "collapsed": true,
        "id": "uYYS2zkXidOu",
        "outputId": "6dddbd50-9a9d-47ac-a6c1-16918e3b49ca",
        "colab": {
          "base_uri": "https://localhost:8080/"
        }
      },
      "execution_count": 11,
      "outputs": [
        {
          "output_type": "stream",
          "name": "stdout",
          "text": [
            "IF age>=34.9966813726351 THEN default=0 \n",
            "IF loan<=2507.64970973955 AND income>=20511.4294355735 THEN default=0 \n",
            "IF loan>=7708.31562497011 AND loan>=9601.375482171099 THEN default=1 \n",
            "IF loan>=7708.31562497011 AND loan>=9595.28628892989 THEN default=0 \n",
            "IF loan>=7708.31562497011 AND age>=20.9909665295854 THEN default=1 \n",
            "IF loan<=3665.88089899456 AND income>=27407.056202646298 THEN default=0 \n",
            "IF income<=46801.274286117405 AND loan>=5416.3577980789005 THEN default=1 \n",
            "IF loan>=8092.982779946221 THEN default=1 \n",
            "IF income>=58132.4712652713 THEN default=0 \n",
            "IF loan>=6342.56790924236 THEN default=1 \n",
            "IF income>=38129.754869733 AND income>=50360.6787929311 THEN default=0 \n",
            "IF income<=38129.754869733 AND age>=22.2630956131034 THEN default=1 \n",
            "IF loan>=5862.83302915672 THEN default=1 \n",
            "IF income>=40496.2558229454 THEN default=0 \n",
            "IF age>=22.223386954050497 THEN default=0 \n",
            "IF age>=21.6304703606293 THEN default=1 \n",
            "IF loan>=4518.8583509090395 THEN default=1 \n",
            "IF age>=21.054199264384803 THEN default=0 \n",
            "IF income>=32197.6207010448 THEN default=0 \n",
            "IF income<=25833.7172260508 THEN default=1 \n",
            "IF TRUE THEN default=0 \n"
          ]
        }
      ]
    },
    {
      "cell_type": "code",
      "source": [
        "regras_credit"
      ],
      "metadata": {
        "collapsed": true,
        "id": "rJtawlPkjIX1",
        "outputId": "2dd055d1-743f-462d-c412-2e19b5928010",
        "colab": {
          "base_uri": "https://localhost:8080/"
        }
      },
      "execution_count": 14,
      "outputs": [
        {
          "output_type": "execute_result",
          "data": {
            "text/plain": [
              "CN2Classifier(domain=[income, age, loan | default]domain=[income, age, loan | default],\n",
              "              ,\n",
              "              rule_list=[<Orange.classification.rules.Rule at 0x7f11678bd120>,\n",
              "               <Orange.classification.rules.Rule at 0x7f11678be200>,\n",
              "               <Orange.classification.rules.Rule at 0x7f11678bee30>,\n",
              "               <Orange.classification.rules.Rule at 0x7f11678bfa30>,\n",
              "               <Orange.classification.rules.Rule at 0x7f11678bdb40>,\n",
              "               <Orange.classification.rules.Rule at 0x7f11678be650>,\n",
              "               <Orange.classification.rules.Rule at 0x7f11678bca30>,\n",
              "               <Orange.classification.rules.Rule at 0x7f11678bf310>,\n",
              "               <Orange.classification.rules.Rule at 0x7f11678bdf60>,\n",
              "               <Orange.classification.rules.Rule at 0x7f11678bece0>,\n",
              "               <Orange.classification.rules.Rule at 0x7f11678bf850>,\n",
              "               <Orange.classification.rules.Rule at 0x7f11678be680>,\n",
              "               <Orange.classification.rules.Rule at 0x7f11678bc670>,\n",
              "               <Orange.classification.rules.Rule at 0x7f11678bc3a0>,\n",
              "               <Orange.classification.rules.Rule at 0x7f11678bd870>,\n",
              "               <Orange.classification.rules.Rule at 0x7f11678bfe80>,\n",
              "               <Orange.classification.rules.Rule at 0x7f11678bf760>,\n",
              "               <Orange.classification.rules.Rule at 0x7f11678bc9a0>,\n",
              "               <Orange.classification.rules.Rule at 0x7f11678bf550>,\n",
              "               <Orange.classification.rules.Rule at 0x7f11678bf730>,\n",
              "               <Orange.classification.rules.Rule at 0x7f11678bc2e0>]rule_list=[<Orange.classification.rules.Rule at 0x7f11678bd120>,\n",
              "               <Orange.classification.rules.Rule at 0x7f11678be200>,\n",
              "               <Orange.classification.rules.Rule at 0x7f11678bee30>,\n",
              "               <Orange.classification.rules.Rule at 0x7f11678bfa30>,\n",
              "               <Orange.classification.rules.Rule at 0x7f11678bdb40>,\n",
              "               <Orange.classification.rules.Rule at 0x7f11678be650>,\n",
              "               <Orange.classification.rules.Rule at 0x7f11678bca30>,\n",
              "               <Orange.classification.rules.Rule at 0x7f11678bf310>,\n",
              "               <Orange.classification.rules.Rule at 0x7f11678bdf60>,\n",
              "               <Orange.classification.rules.Rule at 0x7f11678bece0>,\n",
              "               <Orange.classification.rules.Rule at 0x7f11678bf850>,\n",
              "               <Orange.classification.rules.Rule at 0x7f11678be680>,\n",
              "               <Orange.classification.rules.Rule at 0x7f11678bc670>,\n",
              "               <Orange.classification.rules.Rule at 0x7f11678bc3a0>,\n",
              "               <Orange.classification.rules.Rule at 0x7f11678bd870>,\n",
              "               <Orange.classification.rules.Rule at 0x7f11678bfe80>,\n",
              "               <Orange.classification.rules.Rule at 0x7f11678bf760>,\n",
              "               <Orange.classification.rules.Rule at 0x7f11678bc9a0>,\n",
              "               <Orange.classification.rules.Rule at 0x7f11678bf550>,\n",
              "               <Orange.classification.rules.Rule at 0x7f11678bf730>,\n",
              "               <Orange.classification.rules.Rule at 0x7f11678bc2e0>])"
            ]
          },
          "metadata": {},
          "execution_count": 14
        }
      ]
    },
    {
      "cell_type": "code",
      "source": [
        "previsoes=Orange.evaluation.testing.TestOnTestData(base_treinamento,base_teste,[lambda test_data: regras_credit])"
      ],
      "metadata": {
        "id": "H7c3R5xKips_"
      },
      "execution_count": 16,
      "outputs": []
    },
    {
      "cell_type": "code",
      "source": [
        "previsoes"
      ],
      "metadata": {
        "id": "U7N68-uujmz5",
        "outputId": "2a9ed193-ae8b-480a-a75a-2fc8799a13fc",
        "colab": {
          "base_uri": "https://localhost:8080/"
        }
      },
      "execution_count": 18,
      "outputs": [
        {
          "output_type": "execute_result",
          "data": {
            "text/plain": [
              "<Orange.evaluation.testing.Results at 0x7f1167793df0>"
            ]
          },
          "metadata": {},
          "execution_count": 18
        }
      ]
    },
    {
      "cell_type": "code",
      "source": [
        "Orange.evaluation.CA(previsoes)"
      ],
      "metadata": {
        "id": "ydMrA3iejgOv",
        "outputId": "be7ee8ad-8e0a-4fa1-97b2-ad79597ba4d5",
        "colab": {
          "base_uri": "https://localhost:8080/"
        }
      },
      "execution_count": 17,
      "outputs": [
        {
          "output_type": "execute_result",
          "data": {
            "text/plain": [
              "array([0.98])"
            ]
          },
          "metadata": {},
          "execution_count": 17
        }
      ]
    },
    {
      "cell_type": "markdown",
      "source": [
        "# BASE EMPLOYEES - 30%"
      ],
      "metadata": {
        "id": "7PQ_a3yllFd0"
      }
    },
    {
      "cell_type": "code",
      "source": [
        "import pandas as pd"
      ],
      "metadata": {
        "id": "5gG9oSqBnern"
      },
      "execution_count": 40,
      "outputs": []
    },
    {
      "cell_type": "code",
      "source": [
        "# ======== PRÉ PROCESSAMENTO ========\n",
        "df_employees= pd.read_excel('Employees.xlsx')\n",
        "df_employees.isnull().sum()\n",
        "coluna_y=df_employees['Country']\n",
        "df_employees.drop(['No',\t'First Name',\t'Last Name', \t'Monthly Salary','Sick Leaves',\t'Unpaid Leaves',\t'Overtime Hours','Country'],axis=1,inplace=True)\n",
        "df_employees['Start Date']=df_employees['Start Date'].astype('object')\n",
        "df_employees['Country']=coluna_y\n",
        "df_employees.info()\n",
        "df_employees.describe()\n",
        "df_employees['Start Date'].duplicated().value_counts()\n",
        "\n"
      ],
      "metadata": {
        "collapsed": true,
        "id": "FU-cgfoboFiI",
        "outputId": "1abd5e1d-2629-4fd3-cd4a-93c105fb222f",
        "colab": {
          "base_uri": "https://localhost:8080/",
          "height": 0
        }
      },
      "execution_count": 42,
      "outputs": [
        {
          "output_type": "stream",
          "name": "stdout",
          "text": [
            "<class 'pandas.core.frame.DataFrame'>\n",
            "RangeIndex: 689 entries, 0 to 688\n",
            "Data columns (total 8 columns):\n",
            " #   Column         Non-Null Count  Dtype  \n",
            "---  ------         --------------  -----  \n",
            " 0   Gender         689 non-null    object \n",
            " 1   Start Date     689 non-null    object \n",
            " 2   Years          689 non-null    int64  \n",
            " 3   Department     689 non-null    object \n",
            " 4   Center         689 non-null    object \n",
            " 5   Annual Salary  689 non-null    int64  \n",
            " 6   Job Rate       689 non-null    float64\n",
            " 7   Country        689 non-null    object \n",
            "dtypes: float64(1), int64(2), object(5)\n",
            "memory usage: 43.2+ KB\n"
          ]
        },
        {
          "output_type": "execute_result",
          "data": {
            "text/plain": [
              "Start Date\n",
              "False    539\n",
              "True     150\n",
              "Name: count, dtype: int64"
            ],
            "text/html": [
              "<div>\n",
              "<style scoped>\n",
              "    .dataframe tbody tr th:only-of-type {\n",
              "        vertical-align: middle;\n",
              "    }\n",
              "\n",
              "    .dataframe tbody tr th {\n",
              "        vertical-align: top;\n",
              "    }\n",
              "\n",
              "    .dataframe thead th {\n",
              "        text-align: right;\n",
              "    }\n",
              "</style>\n",
              "<table border=\"1\" class=\"dataframe\">\n",
              "  <thead>\n",
              "    <tr style=\"text-align: right;\">\n",
              "      <th></th>\n",
              "      <th>count</th>\n",
              "    </tr>\n",
              "    <tr>\n",
              "      <th>Start Date</th>\n",
              "      <th></th>\n",
              "    </tr>\n",
              "  </thead>\n",
              "  <tbody>\n",
              "    <tr>\n",
              "      <th>False</th>\n",
              "      <td>539</td>\n",
              "    </tr>\n",
              "    <tr>\n",
              "      <th>True</th>\n",
              "      <td>150</td>\n",
              "    </tr>\n",
              "  </tbody>\n",
              "</table>\n",
              "</div><br><label><b>dtype:</b> int64</label>"
            ]
          },
          "metadata": {},
          "execution_count": 42
        }
      ]
    },
    {
      "cell_type": "code",
      "source": [
        "# ======== CONVERTENDO PARA FORMATO ORANGE ========\n",
        "df_employees.rename(columns={'Country':'c#Country'},inplace=True)\n",
        "df_employees.to_csv('employees_regras.csv')"
      ],
      "metadata": {
        "id": "GRnxTPsuolKz"
      },
      "execution_count": 44,
      "outputs": []
    },
    {
      "cell_type": "code",
      "source": [
        "base_employees=Orange.data.Table('employees_regras.csv')"
      ],
      "metadata": {
        "id": "5EwuUkMAomRK"
      },
      "execution_count": 47,
      "outputs": []
    },
    {
      "cell_type": "code",
      "source": [
        "base_employees.domain"
      ],
      "metadata": {
        "id": "whgodTJZo1Dj",
        "outputId": "ea1d79e0-6d6a-4f16-b7fa-2b1ec6b2c029",
        "colab": {
          "base_uri": "https://localhost:8080/"
        }
      },
      "execution_count": 48,
      "outputs": [
        {
          "output_type": "execute_result",
          "data": {
            "text/plain": [
              "[Feature 1, Gender, Start Date, Years, Department, Center, Annual Salary, Job Rate | Country]"
            ]
          },
          "metadata": {},
          "execution_count": 48
        }
      ]
    },
    {
      "cell_type": "code",
      "source": [
        "base_employees_dividida=Orange.evaluation.testing.sample(base_employees,n=0.25)"
      ],
      "metadata": {
        "id": "orAzSRpIpiZs"
      },
      "execution_count": 50,
      "outputs": []
    },
    {
      "cell_type": "code",
      "source": [
        "base_employees_teste=base_employees_dividida[0]\n",
        "base_employees_treinamento=base_employees_dividida[1]\n",
        "len(base_employees_teste),len(base_employees_treinamento)"
      ],
      "metadata": {
        "id": "LyfTlJnKqSSb",
        "outputId": "3f9095ae-9883-4934-a92b-11d8ad87af23",
        "colab": {
          "base_uri": "https://localhost:8080/"
        }
      },
      "execution_count": 51,
      "outputs": [
        {
          "output_type": "execute_result",
          "data": {
            "text/plain": [
              "(172, 517)"
            ]
          },
          "metadata": {},
          "execution_count": 51
        }
      ]
    },
    {
      "cell_type": "code",
      "source": [
        "len(base_employees)"
      ],
      "metadata": {
        "id": "8lkjGrB5qjGf",
        "outputId": "897717e8-c6c9-49d1-e601-a9cb8f3c5f5a",
        "colab": {
          "base_uri": "https://localhost:8080/"
        }
      },
      "execution_count": 52,
      "outputs": [
        {
          "output_type": "execute_result",
          "data": {
            "text/plain": [
              "689"
            ]
          },
          "metadata": {},
          "execution_count": 52
        }
      ]
    },
    {
      "cell_type": "code",
      "source": [
        "cn2=Orange.classification.rules.CN2Learner()\n",
        "regras_employees=cn2(base_employees_treinamento)"
      ],
      "metadata": {
        "id": "dntH73GYqngP"
      },
      "execution_count": 53,
      "outputs": []
    },
    {
      "cell_type": "code",
      "source": [
        "for regra in regras_employees.rule_list:\n",
        "  print(regra)"
      ],
      "metadata": {
        "collapsed": true,
        "id": "DFwKUfQNrMzW",
        "outputId": "5d968962-4466-4612-a8a4-122368973cc3",
        "colab": {
          "base_uri": "https://localhost:8080/"
        }
      },
      "execution_count": 54,
      "outputs": [
        {
          "output_type": "stream",
          "name": "stdout",
          "text": [
            "IF Department==Research/Development THEN Country=Egypt \n",
            "IF Department==Major Mfg Projects AND Feature 1>=347.0 THEN Country=Egypt \n",
            "IF Department==Major Mfg Projects THEN Country=Lebanon \n",
            "IF Department==Environmental Health/Safety AND Feature 1>=544.0 THEN Country=Egypt \n",
            "IF Department==Environmental Health/Safety AND Feature 1>=396.0 THEN Country=United Arab Emirates \n",
            "IF Department==Environmental Health/Safety AND Start Date>=1597968000.0 THEN Country=Egypt \n",
            "IF Department==Environmental Health/Safety THEN Country=United Arab Emirates \n",
            "IF Department==Environmental Compliance AND Gender==Female THEN Country=Egypt \n",
            "IF Department==Marketing AND Center==South THEN Country=Egypt \n",
            "IF Department==Manufacturing Admin AND Feature 1>=608.0 THEN Country=Egypt \n",
            "IF Department==Environmental Compliance AND Years>=3.0 THEN Country=United Arab Emirates \n",
            "IF Department==Environmental Compliance AND Center==East THEN Country=Egypt \n",
            "IF Department==Environmental Compliance AND Years>=2.0 THEN Country=Egypt \n",
            "IF Department==Sales AND Center==East THEN Country=Saudi Arabia \n",
            "IF Department==Sales AND Center==North THEN Country=Egypt \n",
            "IF Annual Salary>=40044.0 AND Years>=4.0 THEN Country=United Arab Emirates \n",
            "IF Annual Salary>=40044.0 AND Department==Account Management THEN Country=Egypt \n",
            "IF Annual Salary>=40044.0 AND Department==Creative THEN Country=Egypt \n",
            "IF Annual Salary>=40044.0 AND Department==Manufacturing THEN Country=Egypt \n",
            "IF Department==Facilities/Engineering AND Center==East THEN Country=Egypt \n",
            "IF Start Date>=1606867200.0 AND Gender==Female THEN Country=United Arab Emirates \n",
            "IF Start Date>=1606867200.0 AND Department==Account Management THEN Country=Egypt \n",
            "IF Start Date>=1606867200.0 AND Department==Environmental Compliance THEN Country=Egypt \n",
            "IF Department==Environmental Compliance AND Start Date>=1566000000.0 THEN Country=United Arab Emirates \n",
            "IF Department==Environmental Compliance THEN Country=Syria \n",
            "IF Feature 1<=44.0 AND Department==Facilities/Engineering THEN Country=Egypt \n",
            "IF Feature 1<=47.0 AND Department==Creative THEN Country=United Arab Emirates \n",
            "IF Department==Creative AND Gender==Female THEN Country=Egypt \n",
            "IF Feature 1<=45.0 AND Department==Green Building THEN Country=Egypt \n",
            "IF Department==Green Building AND Feature 1>=551.0 THEN Country=Saudi Arabia \n",
            "IF Department==Green Building AND Gender==Female THEN Country=United Arab Emirates \n",
            "IF Department==Green Building AND Start Date>=1583712000.0 THEN Country=Egypt \n",
            "IF Department==Green Building THEN Country=United Arab Emirates \n",
            "IF Feature 1<=45.0 AND Department==IT THEN Country=Egypt \n",
            "IF Feature 1<=47.0 AND Department==Manufacturing Admin THEN Country=Egypt \n",
            "IF Department==Manufacturing Admin AND Start Date>=1603670400.0 THEN Country=United Arab Emirates \n",
            "IF Department==Manufacturing Admin THEN Country=Syria \n",
            "IF Feature 1<=47.0 AND Department==Professional Training Group THEN Country=United Arab Emirates \n",
            "IF Feature 1<=45.0 AND Start Date>=1606608000.0 THEN Country=United Arab Emirates \n",
            "IF Feature 1<=45.0 AND Department==Training THEN Country=Saudi Arabia \n",
            "IF Department==Training AND Gender==Female THEN Country=Egypt \n",
            "IF Start Date>=1606867200.0 AND Department==Manufacturing THEN Country=Syria \n",
            "IF Department==Facilities/Engineering AND Annual Salary>=39516.0 THEN Country=Saudi Arabia \n",
            "IF Department==Facilities/Engineering AND Annual Salary>=35568.0 THEN Country=Egypt \n",
            "IF Center==North AND Department==Creative THEN Country=Egypt \n",
            "IF Center==North AND Department==Professional Training Group THEN Country=Egypt \n",
            "IF Annual Salary>=40044.0 AND Department==Marketing THEN Country=Egypt \n",
            "IF Center==North AND Department==Research Center THEN Country=United Arab Emirates \n",
            "IF Center==East AND Department==Research Center THEN Country=Egypt \n",
            "IF Department==Sales AND Center==South THEN Country=Egypt \n",
            "IF Feature 1<=45.0 AND Department==Sales THEN Country=United Arab Emirates \n",
            "IF Feature 1<=45.0 AND Center==South THEN Country=Saudi Arabia \n",
            "IF Center==West AND Department==Product Development THEN Country=Egypt \n",
            "IF Center==West AND Department==Professional Training Group THEN Country=Egypt \n",
            "IF Center!=Main AND Department==Sales THEN Country=United Arab Emirates \n",
            "IF Department==Sales AND Job Rate>=5.0 THEN Country=Saudi Arabia \n",
            "IF Department==Sales AND Feature 1>=213.0 THEN Country=Egypt \n",
            "IF Department==Sales THEN Country=Syria \n",
            "IF Center==West AND Department==Training THEN Country=Egypt \n",
            "IF Department==Quality Control AND Feature 1>=540.0 AND Gender==Female THEN Country=Egypt \n",
            "IF Department==Quality Control AND Feature 1>=540.0 AND Center==East THEN Country=Egypt \n",
            "IF Department==IT AND Center==South THEN Country=Saudi Arabia \n",
            "IF Department==Quality Control AND Feature 1>=540.0 AND Center!=Main THEN Country=Egypt \n",
            "IF Department==Manufacturing AND Feature 1>=650.0 AND Gender==Female THEN Country=Egypt \n",
            "IF Department==Marketing AND Feature 1>=363.0 AND Gender==Female THEN Country=Egypt \n",
            "IF Department==Manufacturing AND Start Date<=1471910400.0 AND Gender==Female THEN Country=Egypt \n",
            "IF Department==Facilities/Engineering AND Center==Main AND Gender==Female THEN Country=Egypt \n",
            "IF Department==Marketing AND Feature 1>=363.0 AND Years>=2.0 THEN Country=Egypt \n",
            "IF Center==South AND Department==Creative THEN Country=United Arab Emirates \n",
            "IF Department==Creative AND Feature 1>=358.0 THEN Country=Egypt \n",
            "IF Department==Creative AND Start Date>=1532044800.0 THEN Country=Syria \n",
            "IF Department==Creative THEN Country=Saudi Arabia \n",
            "IF Department==Facilities/Engineering AND Feature 1>=464.0 AND Years>=3.0 THEN Country=Egypt \n",
            "IF Department==Facilities/Engineering AND Feature 1>=464.0 AND Feature 1>=619.0 THEN Country=United Arab Emirates \n",
            "IF Department==Facilities/Engineering AND Gender==Female THEN Country=Egypt \n",
            "IF Department==Facilities/Engineering AND Feature 1>=464.0 AND Start Date>=1561593600.0 THEN Country=United Arab Emirates \n",
            "IF Department==Facilities/Engineering AND Center==Main THEN Country=Egypt \n",
            "IF Department==Marketing AND Feature 1>=363.0 AND Center==North THEN Country=Egypt \n",
            "IF Department==Marketing AND Years>=4.0 AND Gender==Female THEN Country=Syria \n",
            "IF Annual Salary>=37992.0 AND Years>=4.0 THEN Country=United Arab Emirates \n",
            "IF Annual Salary>=37992.0 AND Department==IT THEN Country=Egypt \n",
            "IF Annual Salary>=37992.0 AND Feature 1>=403.0 THEN Country=Lebanon \n",
            "IF Annual Salary>=37992.0 AND Gender==Female THEN Country=Egypt \n",
            "IF Annual Salary<=8928.0 AND Start Date>=1604016000.0 THEN Country=United Arab Emirates \n",
            "IF Annual Salary<=9516.0 AND Department==IT THEN Country=Egypt \n",
            "IF Annual Salary<=9516.0 AND Department==Marketing THEN Country=Egypt \n",
            "IF Annual Salary<=9516.0 AND Department==Quality Control THEN Country=Egypt \n",
            "IF Department==Product Development AND Years>=4.0 THEN Country=Saudi Arabia \n",
            "IF Department==Product Development AND Start Date>=1586476800.0 THEN Country=Egypt \n",
            "IF Department==Training AND Start Date>=1606867200.0 THEN Country=Syria \n",
            "IF Department==Training AND Years>=3.0 THEN Country=Saudi Arabia \n",
            "IF Department==Training AND Center!=Main THEN Country=Egypt \n",
            "IF Department==Training AND Start Date>=1574726400.0 THEN Country=Egypt \n",
            "IF Department==Product Development AND Start Date>=1572998400.0 AND Start Date>=1577318400.0 THEN Country=United Arab Emirates \n",
            "IF Annual Salary<=10416.0 AND Department==Facilities/Engineering THEN Country=Syria \n",
            "IF Annual Salary<=10416.0 AND Department==Quality Assurance THEN Country=Saudi Arabia \n",
            "IF Department==Facilities/Engineering AND Job Rate>=5.0 THEN Country=United Arab Emirates \n",
            "IF Department==Facilities/Engineering AND Start Date>=1606953600.0 THEN Country=Syria \n",
            "IF Department==Facilities/Engineering AND Center==North THEN Country=Egypt \n",
            "IF Department==Facilities/Engineering AND Start Date>=1575331200.0 THEN Country=Saudi Arabia \n",
            "IF Department==Facilities/Engineering AND Feature 1>=397.0 THEN Country=Egypt \n",
            "IF Department==Facilities/Engineering AND Start Date>=1487721600.0 THEN Country=Syria \n",
            "IF Department==Facilities/Engineering THEN Country=Egypt \n",
            "IF Department==Product Development AND Center==North AND Gender!=Female THEN Country=United Arab Emirates \n",
            "IF Department==Product Development AND Job Rate>=4.5 AND Feature 1>=226.0 THEN Country=Egypt \n",
            "IF Department==Product Development AND Start Date>=1576281600.0 THEN Country=Egypt \n",
            "IF Department==Product Development AND Start Date>=1574553600.0 THEN Country=United Arab Emirates \n",
            "IF Department==Product Development AND Start Date>=1569974400.0 THEN Country=Syria \n",
            "IF Annual Salary<=10092.0 AND Department==Quality Control THEN Country=Egypt \n",
            "IF Department==Product Development AND Center!=Main THEN Country=United Arab Emirates \n",
            "IF Department==Product Development AND Gender!=Female THEN Country=Syria \n",
            "IF Department==Product Development AND Start Date>=1544313600.0 THEN Country=Egypt \n",
            "IF Department==Product Development THEN Country=United Arab Emirates \n",
            "IF Annual Salary<=10416.0 AND Center==Main AND Feature 1>=217.0 THEN Country=Egypt \n",
            "IF Department==Marketing AND Gender==Female AND Start Date>=1576627200.0 THEN Country=United Arab Emirates \n",
            "IF Department==Marketing AND Gender==Female THEN Country=Egypt \n",
            "IF Department==Marketing AND Center==East AND Feature 1>=409.0 THEN Country=Egypt \n",
            "IF Department==Marketing AND Feature 1>=363.0 THEN Country=Saudi Arabia \n",
            "IF Department==Marketing AND Center==West AND Annual Salary>=19200.0 THEN Country=Egypt \n",
            "IF Department==Marketing AND Center==West THEN Country=United Arab Emirates \n",
            "IF Center!=Main AND Years>=4.0 AND Feature 1>=482.0 THEN Country=Egypt \n",
            "IF Department==Manufacturing AND Center==South AND Gender==Female THEN Country=United Arab Emirates \n",
            "IF Department==Manufacturing AND Center==South THEN Country=Egypt \n",
            "IF Department==Marketing AND Start Date<=1467676800.0 AND Start Date>=1467676800.0 THEN Country=Egypt \n",
            "IF Department==Marketing AND Years>=4.0 THEN Country=Syria \n",
            "IF Feature 1<=573.0 AND Feature 1>=554.0 AND Gender==Female THEN Country=Egypt \n",
            "IF Department==Manufacturing AND Job Rate<=2.0 AND Feature 1>=589.0 THEN Country=Egypt \n",
            "IF Department==Marketing AND Job Rate>=4.5 AND Start Date>=1553212800.0 THEN Country=Egypt \n",
            "IF Department==Marketing AND Start Date>=1558483200.0 THEN Country=United Arab Emirates \n",
            "IF Department==Marketing AND Center!=Main THEN Country=United Arab Emirates \n",
            "IF Department==Marketing AND Years>=2.0 THEN Country=Egypt \n",
            "IF Department==Marketing AND Start Date>=1548547200.0 THEN Country=Egypt \n",
            "IF Department==Marketing THEN Country=United Arab Emirates \n",
            "IF Department==Research Center AND Feature 1<=325.0 AND Start Date>=1537315200.0 THEN Country=United Arab Emirates \n",
            "IF Department==Research Center AND Start Date>=1552521600.0 THEN Country=Saudi Arabia \n",
            "IF Department==Research Center THEN Country=Syria \n",
            "IF Years>=4.0 AND Gender==Female THEN Country=United Arab Emirates \n",
            "IF Department==Professional Training Group AND Center==East THEN Country=Saudi Arabia \n",
            "IF Department==IT AND Center==East THEN Country=Syria \n",
            "IF Center==East AND Annual Salary>=32748.0 THEN Country=United Arab Emirates \n",
            "IF Center==East AND Years>=2.0 THEN Country=Egypt \n",
            "IF Department==Quality Control AND Center==East THEN Country=United Arab Emirates \n",
            "IF Center==East AND Annual Salary>=31284.0 THEN Country=Saudi Arabia \n",
            "IF Center==East AND Feature 1>=680.0 THEN Country=Syria \n",
            "IF Center==East AND Gender==Female THEN Country=Egypt \n",
            "IF Center==East THEN Country=Saudi Arabia \n",
            "IF Start Date>=1552435200.0 AND Department==Training THEN Country=Saudi Arabia \n",
            "IF Department==Training AND Start Date>=1534204800.0 THEN Country=United Arab Emirates \n",
            "IF Department==Training THEN Country=Egypt \n",
            "IF Department==Manufacturing AND Start Date>=1588723200.0 AND Gender==Female THEN Country=Egypt \n",
            "IF Department==Manufacturing AND Feature 1>=629.0 AND Center!=Main THEN Country=United Arab Emirates \n",
            "IF Department==IT AND Start Date>=1596585600.0 AND Gender==Female THEN Country=Syria \n",
            "IF Department==IT AND Start Date>=1564358400.0 AND Gender==Female THEN Country=Egypt \n",
            "IF Department==IT AND Start Date>=1596585600.0 THEN Country=United Arab Emirates \n",
            "IF Department==IT AND Start Date>=1570147200.0 AND Start Date>=1587340800.0 THEN Country=Egypt \n",
            "IF Department==IT AND Center==West THEN Country=Saudi Arabia \n",
            "IF Start Date>=1552435200.0 AND Department==Human Resources AND Gender==Female THEN Country=United Arab Emirates \n",
            "IF Start Date>=1552435200.0 AND Department==Professional Training Group AND Start Date>=1571788800.0 THEN Country=Saudi Arabia \n",
            "IF Start Date>=1552435200.0 AND Department==Professional Training Group THEN Country=United Arab Emirates \n",
            "IF Department==Professional Training Group AND Center!=Main THEN Country=Egypt \n",
            "IF Department==Professional Training Group AND Gender!=Female THEN Country=Saudi Arabia \n",
            "IF Department==Professional Training Group AND Start Date>=1530230400.0 THEN Country=Syria \n",
            "IF Department==Professional Training Group THEN Country=Egypt \n",
            "IF Annual Salary>=28416.0 AND Feature 1<=38.0 AND Gender==Female THEN Country=Saudi Arabia \n",
            "IF Start Date>=1552435200.0 AND Annual Salary>=34812.0 AND Department==Account Management THEN Country=Egypt \n",
            "IF Annual Salary>=28416.0 AND Start Date>=1581120000.0 AND Gender==Female THEN Country=Egypt \n",
            "IF Department==Account Management AND Annual Salary>=34548.0 AND Gender!=Female THEN Country=Saudi Arabia \n",
            "IF Start Date>=1552435200.0 AND Department==IT AND Feature 1>=508.0 THEN Country=United Arab Emirates \n",
            "IF Department==IT AND Gender==Female THEN Country=Syria \n",
            "IF Department==IT AND Start Date>=1538697600.0 THEN Country=Egypt \n",
            "IF Department==IT AND Start Date>=1512172800.0 THEN Country=Saudi Arabia \n",
            "IF Department==IT AND Start Date>=1500595200.0 THEN Country=United Arab Emirates \n",
            "IF Department==IT THEN Country=Egypt \n",
            "IF Department==Quality Control AND Center==South AND Start Date>=1555372800.0 THEN Country=United Arab Emirates \n",
            "IF Department==Quality Control AND Center==South THEN Country=Egypt \n",
            "IF Department==Manufacturing AND Feature 1>=629.0 AND Start Date>=1578096000.0 THEN Country=Syria \n",
            "IF Department==Manufacturing AND Annual Salary<=10524.0 AND Gender==Female THEN Country=Egypt \n",
            "IF Department==Manufacturing AND Annual Salary<=10524.0 AND Center==Main THEN Country=Syria \n",
            "IF Start Date>=1551830400.0 AND Department==Human Resources AND Start Date>=1583798400.0 THEN Country=Lebanon \n",
            "IF Department==Human Resources AND Gender==Female THEN Country=Egypt \n",
            "IF Department==Human Resources AND Feature 1>=127.0 THEN Country=United Arab Emirates \n",
            "IF Department==Human Resources THEN Country=Syria \n",
            "IF Start Date<=1525910400.0 AND Center==West AND Gender==Female THEN Country=Egypt \n",
            "IF Annual Salary>=28416.0 AND Start Date>=1559433600.0 AND Start Date>=1608076800.0 THEN Country=United Arab Emirates \n",
            "IF Annual Salary>=28416.0 AND Start Date>=1559433600.0 AND Department==Account Management THEN Country=Egypt \n",
            "IF Annual Salary<=11856.0 AND Feature 1>=441.0 AND Feature 1>=499.0 THEN Country=Saudi Arabia \n",
            "IF Department==Account Management AND Annual Salary>=34548.0 AND Start Date>=1549065600.0 THEN Country=Saudi Arabia \n",
            "IF Department==Quality Control AND Feature 1<=107.0 AND Start Date>=1588464000.0 THEN Country=Saudi Arabia \n",
            "IF Department==Quality Control AND Feature 1<=107.0 AND Gender!=Female THEN Country=Egypt \n",
            "IF Start Date<=1523664000.0 AND Center==West AND Department==Quality Assurance THEN Country=Saudi Arabia \n",
            "IF Center==North AND Annual Salary>=29856.0 AND Gender==Female THEN Country=Egypt \n",
            "IF Job Rate<=3.0 AND Center==South THEN Country=Lebanon \n",
            "IF Start Date>=1526256000.0 AND Annual Salary>=32760.0 AND Center==North THEN Country=Egypt \n",
            "IF Center==North AND Annual Salary>=31572.0 THEN Country=United Arab Emirates \n",
            "IF Center==North AND Annual Salary>=29856.0 AND Department==Account Management THEN Country=Egypt \n",
            "IF Center==North AND Annual Salary>=29856.0 AND Start Date>=1576627200.0 THEN Country=Egypt \n",
            "IF Job Rate<=3.0 AND Annual Salary>=41316.0 THEN Country=Saudi Arabia \n",
            "IF Department!=Quality Assurance AND Feature 1>=632.0 THEN Country=Egypt \n",
            "IF Department!=Quality Assurance AND Feature 1>=629.0 THEN Country=United Arab Emirates \n",
            "IF Feature 1>=593.0 AND Feature 1>=624.0 THEN Country=Egypt \n",
            "IF Feature 1>=593.0 AND Start Date>=1570147200.0 THEN Country=Saudi Arabia \n",
            "IF Feature 1>=593.0 AND Department==Account Management THEN Country=Saudi Arabia \n",
            "IF Feature 1>=605.0 AND Department==Quality Assurance THEN Country=Syria \n",
            "IF Feature 1>=605.0 AND Gender==Female THEN Country=Saudi Arabia \n",
            "IF Feature 1>=573.0 AND Department==Account Management THEN Country=Syria \n",
            "IF Feature 1>=605.0 AND Years>=3.0 THEN Country=Syria \n",
            "IF Feature 1<=62.0 AND Department==Quality Control THEN Country=Egypt \n",
            "IF Feature 1<=42.0 AND Gender==Female THEN Country=Saudi Arabia \n",
            "IF Feature 1>=621.0 THEN Country=Syria \n",
            "IF Department==Account Management AND Annual Salary>=35148.0 THEN Country=Syria \n",
            "IF Annual Salary>=18612.0 AND Center==South THEN Country=Egypt \n",
            "IF Center==South AND Annual Salary>=18540.0 THEN Country=Saudi Arabia \n",
            "IF Center==South AND Gender==Female THEN Country=United Arab Emirates \n",
            "IF Center==South AND Department!=Account Management THEN Country=Egypt \n",
            "IF Center==South AND Start Date>=1566000000.0 THEN Country=Egypt \n",
            "IF Center==South THEN Country=United Arab Emirates \n",
            "IF Department==Account Management AND Job Rate>=5.0 THEN Country=United Arab Emirates \n",
            "IF Years>=3.0 AND Start Date>=1515801600.0 THEN Country=Saudi Arabia \n",
            "IF Years>=3.0 AND Feature 1>=432.0 THEN Country=United Arab Emirates \n",
            "IF Feature 1<=62.0 AND Gender==Female THEN Country=Egypt \n",
            "IF Department==Manufacturing AND Center==West AND Gender==Female THEN Country=Egypt \n",
            "IF Department==Manufacturing AND Center==West AND Feature 1>=410.0 THEN Country=Egypt \n",
            "IF Department!=Quality Assurance AND Job Rate<=2.0 AND Department==Quality Control THEN Country=Egypt \n",
            "IF Department==Quality Control AND Feature 1>=474.0 AND Years>=2.0 THEN Country=Egypt \n",
            "IF Feature 1<=223.0 AND Start Date>=1604016000.0 THEN Country=Saudi Arabia \n",
            "IF Feature 1<=223.0 AND Years>=4.0 THEN Country=United Arab Emirates \n",
            "IF Center==Main AND Start Date>=1587168000.0 AND Feature 1>=175.0 THEN Country=Egypt \n",
            "IF Annual Salary>=18612.0 AND Annual Salary>=37896.0 THEN Country=United Arab Emirates \n",
            "IF Annual Salary>=32760.0 AND Feature 1>=194.0 THEN Country=Egypt \n",
            "IF Annual Salary>=32148.0 AND Gender==Female THEN Country=Saudi Arabia \n",
            "IF Center==Main AND Annual Salary>=27984.0 AND Gender==Female THEN Country=Egypt \n",
            "IF Department==Account Management AND Annual Salary>=22524.0 AND Feature 1>=297.0 THEN Country=United Arab Emirates \n",
            "IF Annual Salary>=18612.0 AND Years>=3.0 AND Gender==Female THEN Country=Egypt \n",
            "IF Center==Main AND Annual Salary>=26772.0 AND Feature 1>=231.0 THEN Country=Egypt \n",
            "IF Department==Quality Control AND Years>=3.0 THEN Country=United Arab Emirates \n",
            "IF Department==Manufacturing AND Annual Salary>=28464.0 AND Start Date>=1573948800.0 THEN Country=Egypt \n",
            "IF Job Rate<=3.0 AND Annual Salary>=27084.0 AND Start Date>=1556668800.0 THEN Country=Lebanon \n",
            "IF Center==North AND Annual Salary>=23256.0 AND Gender!=Female THEN Country=Egypt \n",
            "IF Center==North AND Annual Salary>=29100.0 THEN Country=Saudi Arabia \n",
            "IF Job Rate<=3.0 AND Start Date>=1568678400.0 AND Department!=Account Management THEN Country=United Arab Emirates \n",
            "IF Start Date>=1569196800.0 AND Department==Account Management THEN Country=Egypt \n",
            "IF Start Date>=1569196800.0 AND Center==West THEN Country=Saudi Arabia \n",
            "IF Start Date>=1569196800.0 AND Department==Quality Assurance THEN Country=Egypt \n",
            "IF Start Date>=1567814400.0 AND Department==Account Management THEN Country=United Arab Emirates \n",
            "IF Center==West AND Job Rate>=5.0 THEN Country=Saudi Arabia \n",
            "IF Center==West AND Department==Quality Control THEN Country=Syria \n",
            "IF Years>=2.0 AND Department==Quality Control THEN Country=Syria \n",
            "IF Annual Salary>=18612.0 AND Department==Quality Control THEN Country=Egypt \n",
            "IF Start Date>=1567814400.0 AND Annual Salary>=17232.0 THEN Country=Saudi Arabia \n",
            "IF Years>=4.0 AND Start Date>=1471910400.0 THEN Country=Saudi Arabia \n",
            "IF Start Date>=1567814400.0 AND Feature 1>=65.0 THEN Country=Syria \n",
            "IF Department==Quality Control AND Gender==Female THEN Country=United Arab Emirates \n",
            "IF Department==Quality Control AND Start Date>=1555459200.0 THEN Country=United Arab Emirates \n",
            "IF Department==Quality Control THEN Country=Egypt \n",
            "IF Annual Salary<=12708.0 AND Department==Account Management THEN Country=United Arab Emirates \n",
            "IF Department==Account Management AND Start Date>=1554595200.0 THEN Country=Egypt \n",
            "IF Department==Account Management AND Feature 1>=345.0 THEN Country=Syria \n",
            "IF Department==Account Management THEN Country=United Arab Emirates \n",
            "IF Start Date>=1552435200.0 AND Center==North THEN Country=Egypt \n",
            "IF Start Date>=1552435200.0 AND Feature 1>=386.0 THEN Country=Egypt \n",
            "IF Department!=Manufacturing AND Start Date>=1564272000.0 THEN Country=United Arab Emirates \n",
            "IF Center==West AND Feature 1>=418.0 THEN Country=Syria \n",
            "IF Department!=Manufacturing AND Feature 1>=223.0 THEN Country=Lebanon \n",
            "IF Department!=Manufacturing AND Gender==Female THEN Country=Egypt \n",
            "IF Department!=Manufacturing AND Center==Main THEN Country=Egypt \n",
            "IF Department!=Manufacturing AND Start Date>=1504483200.0 THEN Country=Syria \n",
            "IF Department!=Manufacturing THEN Country=Egypt \n",
            "IF Center!=Main AND Years>=3.0 THEN Country=United Arab Emirates \n",
            "IF Center==North AND Gender!=Female THEN Country=Egypt \n",
            "IF Center==North AND Start Date>=1548979200.0 THEN Country=Egypt \n",
            "IF Center==North THEN Country=Saudi Arabia \n",
            "IF Feature 1>=348.0 THEN Country=United Arab Emirates \n",
            "IF Center!=Main THEN Country=Egypt \n",
            "IF Annual Salary>=24960.0 AND Feature 1>=238.0 THEN Country=Saudi Arabia \n",
            "IF Annual Salary>=33480.0 THEN Country=Syria \n",
            "IF Feature 1>=126.0 THEN Country=Egypt \n",
            "IF Feature 1>=78.0 THEN Country=United Arab Emirates \n",
            "IF Feature 1<=4.0 AND Start Date>=1583884800.0 THEN Country=Egypt \n",
            "IF Feature 1>=35.0 THEN Country=Saudi Arabia \n",
            "IF Feature 1<=3.0 THEN Country=United Arab Emirates \n",
            "IF TRUE THEN Country=Egypt \n"
          ]
        }
      ]
    },
    {
      "cell_type": "code",
      "source": [
        "previsoes=Orange.evaluation.testing.TestOnTestData(base_employees_treinamento,base_employees_teste,[lambda test_data:regras_employees])"
      ],
      "metadata": {
        "id": "JgiVCTGKrfKq"
      },
      "execution_count": 55,
      "outputs": []
    },
    {
      "cell_type": "code",
      "source": [
        "previsoes"
      ],
      "metadata": {
        "collapsed": true,
        "id": "HersrgeTr9vh",
        "outputId": "316997d1-eaa9-476c-b221-708f359a7197",
        "colab": {
          "base_uri": "https://localhost:8080/"
        }
      },
      "execution_count": 56,
      "outputs": [
        {
          "output_type": "execute_result",
          "data": {
            "text/plain": [
              "<Orange.evaluation.testing.Results at 0x7f1167796f50>"
            ]
          },
          "metadata": {},
          "execution_count": 56
        }
      ]
    },
    {
      "cell_type": "code",
      "source": [
        "Orange.evaluation.CA(previsoes)"
      ],
      "metadata": {
        "id": "uLiyi2JusBPh",
        "outputId": "360f53c2-5cd2-492d-8899-84bdf9dd38d5",
        "colab": {
          "base_uri": "https://localhost:8080/"
        }
      },
      "execution_count": 59,
      "outputs": [
        {
          "output_type": "execute_result",
          "data": {
            "text/plain": [
              "array([0.30813953])"
            ]
          },
          "metadata": {},
          "execution_count": 59
        }
      ]
    }
  ]
}